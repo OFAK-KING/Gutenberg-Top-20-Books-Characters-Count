{
 "cells": [
  {
   "cell_type": "markdown",
   "metadata": {},
   "source": [
    "# [The Gutenberg Book corpus](https://www.kaggle.com/currie32/project-gutenbergs-top-20-books/downloads/project-gutenbergs-top-20-books.zip/1) is a dataset containing natural language text from books. This notebook Writes a program that imports this dataset and creates a list of all unique character and their counts in the files and plots the top 10 of these in the dataset as a bar graph"
   ]
  },
  {
   "cell_type": "code",
   "execution_count": 1,
   "metadata": {},
   "outputs": [],
   "source": [
    "#Import the needed Libraries\n",
    "import matplotlib.pyplot as plt\n",
    "import numpy as np\n",
    "import os, glob\n",
    "from collections import Counter"
   ]
  },
  {
   "cell_type": "markdown",
   "metadata": {},
   "source": [
    "- **Read in entire gutenberg dataset in *corpus* list**\n",
    "- **Open up the unzipped data folder named** \n",
    "- **Note: you just need to have the .ipynb file if the same folder as the data \"** \n",
    "- **\"project-gutenberg-...\"*, etc. whatever you named the folder.** "
   ]
  },
  {
   "cell_type": "code",
   "execution_count": 2,
   "metadata": {},
   "outputs": [
    {
     "name": "stdout",
     "output_type": "stream",
     "text": [
      "Read 20 books from gutenberg dataset.\n",
      "-------------------------------\n"
     ]
    }
   ],
   "source": [
    "corpus=[]\n",
    "for filename in sorted(glob.glob(os.path.join('*.rtf'))):\n",
    "    file=open(filename,\"r\",encoding=\"utf8\")\n",
    "    text=file.read()\n",
    "    corpus.append(text)\n",
    "    file.close()\n",
    "#You print to make sure the books have been read into the corpus\n",
    "print(\"Read\", len(corpus), \"books from gutenberg dataset.\\n-------------------------------\")"
   ]
  },
  {
   "cell_type": "code",
   "execution_count": 3,
   "metadata": {},
   "outputs": [],
   "source": [
    "#loop through the books with the counter to count the characters\n",
    "for char in corpus:\n",
    "    counts = Counter(char) # initializing Counter with the character list; it will auto-count frequencies"
   ]
  },
  {
   "cell_type": "markdown",
   "metadata": {},
   "source": [
    "**checking the top 10 characters in our case; anyway, can change to any number wants to analyze, by changing the 10 inside counts.most_common(10))**"
   ]
  },
  {
   "cell_type": "code",
   "execution_count": 4,
   "metadata": {},
   "outputs": [
    {
     "name": "stdout",
     "output_type": "stream",
     "text": [
      "Top 50 Frequent words in corpus:\n",
      "------------------------------\n",
      " [(' ', 245994), ('e', 141250), ('t', 97102), ('a', 90635), ('o', 90149), ('n', 79437), ('i', 77528), ('s', 73893), ('r', 69452), ('h', 69132)]\n"
     ]
    }
   ],
   "source": [
    "print(\"Top 50 Frequent words in corpus:\\n------------------------------\\n\", counts.most_common(10))"
   ]
  },
  {
   "cell_type": "markdown",
   "metadata": {},
   "source": [
    "**Iterating Counters** \n",
    "- **where \"key\" is the character and \"value\" is the value/frequency for the current character** "
   ]
  },
  {
   "cell_type": "code",
   "execution_count": 5,
   "metadata": {},
   "outputs": [
    {
     "name": "stdout",
     "output_type": "stream",
     "text": [
      "  : 245994\n",
      "e : 141250\n",
      "t : 97102\n",
      "a : 90635\n",
      "o : 90149\n",
      "n : 79437\n",
      "i : 77528\n",
      "s : 73893\n",
      "r : 69452\n",
      "h : 69132\n"
     ]
    }
   ],
   "source": [
    "top10_chars = [] # store the top10 characters\n",
    "top10_charCounts = [] # store the top 10 characters' frequencies\n",
    "for key,value in counts.most_common(10):\n",
    "    print(key, \":\", value)\n",
    "    top10_chars.append(key)\n",
    "    top10_charCounts.append(value)"
   ]
  },
  {
   "cell_type": "markdown",
   "metadata": {},
   "source": [
    "**Plotting the top 10 characters** "
   ]
  },
  {
   "cell_type": "code",
   "execution_count": 6,
   "metadata": {},
   "outputs": [
    {
     "data": {
      "image/png": "[encoded data removed]",
      "text/plain": [
       "<Figure size 864x720 with 1 Axes>"
      ]
     },
     "metadata": {
      "needs_background": "light"
     },
     "output_type": "display_data"
    }
   ],
   "source": [
    "y_pos = np.arange(10)\n",
    "plt.figure(figsize=(12,10))\n",
    "plt.bar(y_pos, top10_charCounts, align='center', alpha=0.5)\n",
    "plt.xticks(y_pos, top10_chars,rotation='vertical')\n",
    "plt.ylabel('Frequency')\n",
    "plt.xlabel('Words')\n",
    "plt.title('10 Most Frequent Gutenberg characters')\n",
    "plt.show()"
   ]
  },
  {
   "cell_type": "code",
   "execution_count": null,
   "metadata": {},
   "outputs": [],
   "source": []
  }
 ],
 "metadata": {
  "kernelspec": {
   "display_name": "Python 3",
   "language": "python",
   "name": "python3"
  },
  "language_info": {
   "codemirror_mode": {
    "name": "ipython",
    "version": 3
   },
   "file_extension": ".py",
   "mimetype": "text/x-python",
   "name": "python",
   "nbconvert_exporter": "python",
   "pygments_lexer": "ipython3",
   "version": "3.6.8"
  }
 },
 "nbformat": 4,
 "nbformat_minor": 2
}
